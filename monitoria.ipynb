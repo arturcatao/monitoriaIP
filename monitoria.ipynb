{
 "cells": [
  {
   "cell_type": "code",
   "execution_count": null,
   "id": "7a742eeb",
   "metadata": {},
   "outputs": [],
   "source": [
    "def fibonacci(n):\n",
    "    if n <= 0:\n",
    "        return 0\n",
    "    elif n == 1:\n",
    "        return 1\n",
    "    else:\n",
    "        return fibonacci(n-1) + fibonacci(n-2)\n",
    "    \n",
    "def main():\n",
    "    n = int(input(\"Digite o n-ésimo termo da sequência: \"))\n",
    "\n",
    "    numeros = []\n",
    "    for i in range(1, n + 1):\n",
    "        numeros.append(fibonacci(i))\n",
    "\n",
    "    for num in numeros: \n",
    "        print(num, end=' ')\n",
    "\n",
    "main()"
   ]
  },
  {
   "cell_type": "code",
   "execution_count": null,
   "id": "28c59a21",
   "metadata": {},
   "outputs": [],
   "source": [
    "#Questão modelo prova\n",
    "\n",
    "tentativas = int(input('Digite a quantidade de tentativas de entrega: '))\n",
    "\n",
    "copos_inteiros = [ ]\n",
    "copos_quebrados = [ ]\n",
    "for i in range(tentativas):\n",
    "  \n",
    "    copos = int(input('Digite a quantidade de copos que permanceram na bandeja: '))\n",
    "    latas = int(input('Digite a quantidade de latas que permaneceram: '))\n",
    "  \n",
    "    if latas <= copos:\n",
    "        copos_inteiros.append(copos)\n",
    "    else:\n",
    "        copos = latas - copos\n",
    "        copos_quebrados.append(copos)\n",
    "\n",
    "print(f'O total de copos que foram quebrados foram de:{sum(copos_quebrados)}')"
   ]
  },
  {
   "cell_type": "code",
   "execution_count": null,
   "id": "85d2ed7f",
   "metadata": {},
   "outputs": [],
   "source": [
    "import numpy as np\n",
    "import matplotlib.pyplot as plt\n",
    "\n",
    "x1 = np.linspace(-2, 3, 100)  \n",
    "x2 = np.linspace(3, 6, 100)    \n",
    "\n",
    "plt.plot(x1, 2*x1 - 1, 'b-', label='2x - 1 (x < 3)')\n",
    "plt.plot(x2, -x2 + 8, 'r-', label='-x + 8 (x ≥ 3)')\n",
    "plt.scatter(3, 5, color='black', zorder=5)  \n",
    "plt.xlabel('x'); plt.ylabel('f(x)'); plt.grid(); plt.legend()\n",
    "plt.show()"
   ]
  },
  {
   "cell_type": "code",
   "execution_count": null,
   "id": "e01d4369",
   "metadata": {},
   "outputs": [],
   "source": [
    "# questao 10\n",
    "\n",
    "numero = int(input())\n",
    "\n",
    "fatorial = 1\n",
    "\n",
    "for i in range(numero, 1, -1): #itera de forma decrescente incrementando o fatorial\n",
    "    fatorial *= i\n",
    "\n",
    "print(fatorial)"
   ]
  },
  {
   "cell_type": "code",
   "execution_count": null,
   "id": "a0424b71",
   "metadata": {},
   "outputs": [],
   "source": [
    "# questao 11\n",
    "\n",
    "num = int(input())\n",
    "\n",
    "if num < 2:\n",
    "    eh_primo = False\n",
    "else:\n",
    "    eh_primo = True\n",
    "\n",
    "    for i in range(2, numero):\n",
    "        if numero % i == 0:\n",
    "            eh_primo = False\n",
    "\n",
    "print(eh_primo)"
   ]
  },
  {
   "cell_type": "code",
   "execution_count": null,
   "id": "97f310ed",
   "metadata": {},
   "outputs": [],
   "source": [
    "# questao 11\n",
    "\n",
    "num = int(input())\n",
    "\n",
    "if num < 2:\n",
    "    eh_primo = False\n",
    "else:\n",
    "    eh_primo = True\n",
    "\n",
    "    for i in range(2, num):\n",
    "        if num % i == 0:\n",
    "            eh_primo = False\n",
    "\n",
    "if eh_primo:\n",
    "    print(f\"O numero {num} é primo\")\n",
    "else:\n",
    "    print(f\"O numero {num} não é primo\")"
   ]
  },
  {
   "cell_type": "code",
   "execution_count": null,
   "id": "b13515ef",
   "metadata": {},
   "outputs": [],
   "source": [
    "tamanho = int(input())\n",
    "\n",
    "for i in range(1, tamanho + 1):\n",
    "    print(\"*\" * i)"
   ]
  },
  {
   "cell_type": "code",
   "execution_count": null,
   "id": "b1bcebe8",
   "metadata": {},
   "outputs": [
    {
     "name": "stdout",
     "output_type": "stream",
     "text": [
      "1000767.2\n",
      "2000.0\n",
      "Maior : 5000000, sadsa\n",
      "Menor : 23, 1sada\n"
     ]
    }
   ],
   "source": [
    "#Questao 10 lista 3\n",
    "\n",
    "menor_indice = float(\"inf\")\n",
    "codigo_menor_indice = \"\"\n",
    "\n",
    "maior_indice = float(\"-inf\")\n",
    "codigo_maior_indice = \"\"\n",
    "\n",
    "num_total_acidentes = 0\n",
    "\n",
    "num_acidentes_menor_2000 = 0\n",
    "cidades_menos_2000 = 0\n",
    "\n",
    "i = 0\n",
    "while i < 5:\n",
    "    codigo = input(\"Codigo: \")\n",
    "    veiculos_passeio = int(input(\"Passeio: \"))\n",
    "    num_acidentes = int(input(\"Acidentes: \"))\n",
    "    \n",
    "    num_total_acidentes += num_acidentes\n",
    "\n",
    "    if veiculos_passeio < 2000: \n",
    "        cidades_menos_2000 += 1\n",
    "        num_acidentes_menor_2000 += num_acidentes\n",
    "\n",
    "    if num_acidentes > maior_indice: \n",
    "        maior_indice = num_acidentes\n",
    "        codigo_maior_indice = codigo\n",
    "\n",
    "    if num_acidentes < menor_indice:\n",
    "        menor_indice = num_acidentes\n",
    "        codigo_menor_indice = codigo\n",
    "\n",
    "    i += 1\n",
    "\n",
    "\n",
    "media = num_total_acidentes / 5\n",
    "\n",
    "if cidades_menos_2000 != 0:\n",
    "    media_menos_2000 = num_acidentes_menor_2000 / cidades_menos_2000\n",
    "else:\n",
    "    media_menos_2000 = 0\n",
    "\n",
    "print(media)\n",
    "print(media_menos_2000)\n",
    "print(f\"Maior : {maior_indice}, {codigo_maior_indice}\")\n",
    "print(f\"Menor : {menor_indice}, {codigo_menor_indice}\")\n",
    "\n",
    "\n"
   ]
  },
  {
   "cell_type": "code",
   "execution_count": null,
   "id": "f5c0fb4f",
   "metadata": {},
   "outputs": [
    {
     "name": "stdout",
     "output_type": "stream",
     "text": [
      "X = 2, Y = 1 e f(x,y) = 1.44\n",
      "X = 2, Y = 3 e f(x,y) = 1.91\n",
      "X = 2, Y = 5 e f(x,y) = 3.56\n",
      "X = 2, Y = 7 e f(x,y) = 6.27\n",
      "X = 2, Y = 9 e f(x,y) = 9.99\n",
      "X = 4, Y = 1 e f(x,y) = 10.35\n",
      "X = 4, Y = 3 e f(x,y) = 6.38\n",
      "X = 4, Y = 5 e f(x,y) = 5.96\n",
      "X = 4, Y = 7 e f(x,y) = 6.97\n",
      "X = 4, Y = 9 e f(x,y) = 8.96\n",
      "X = 6, Y = 1 e f(x,y) = 36.53\n",
      "X = 6, Y = 3 e f(x,y) = 20.25\n",
      "X = 6, Y = 5 e f(x,y) = 15.11\n",
      "X = 6, Y = 7 e f(x,y) = 13.37\n",
      "X = 6, Y = 9 e f(x,y) = 13.34\n",
      "X = 8, Y = 1 e f(x,y) = 89.59\n",
      "X = 8, Y = 3 e f(x,y) = 48.78\n",
      "X = 8, Y = 5 e f(x,y) = 34.45\n",
      "X = 8, Y = 7 e f(x,y) = 27.75\n",
      "X = 8, Y = 9 e f(x,y) = 24.47\n"
     ]
    }
   ],
   "source": [
    "valores_x = [2, 4, 6, 8]\n",
    "valores_y = [1, 3, 5, 7, 9]\n",
    "\n",
    "\n",
    "for x in valores_x:   \n",
    "    for y in valores_y:\n",
    "        resultado = (x**4 + 3*x*y + y**3) / (2*x*y + 3*x + 4*y + 2)\n",
    "        print(f\"X = {x}, Y = {y} e f(x,y) = {resultado:.2f}\")"
   ]
  },
  {
   "cell_type": "code",
   "execution_count": 7,
   "id": "287d7841",
   "metadata": {},
   "outputs": [
    {
     "name": "stdout",
     "output_type": "stream",
     "text": [
      "** ** ** ** ** ** \n",
      " ** ** ** ** ** **\n",
      "** ** ** ** ** ** \n",
      " ** ** ** ** ** **\n",
      "** ** ** ** ** ** \n",
      " ** ** ** ** ** **\n",
      "** ** ** ** ** ** \n",
      " ** ** ** ** ** **\n",
      "** ** ** ** ** ** \n",
      " ** ** ** ** ** **\n",
      "** ** ** ** ** ** \n",
      " ** ** ** ** ** **\n"
     ]
    }
   ],
   "source": [
    "ch = input(\"Caractere: \")\n",
    "for linha in range(12):\n",
    "    for coluna in range(12):\n",
    "        if (linha + coluna) % 2 == 0:\n",
    "            print(ch, ch, sep = '', end = '')\n",
    "        else:\n",
    "            print(' ', sep = '', end = '')\n",
    "    print()"
   ]
  },
  {
   "cell_type": "code",
   "execution_count": null,
   "id": "61b564b8",
   "metadata": {},
   "outputs": [
    {
     "name": "stdout",
     "output_type": "stream",
     "text": [
      "************************\n",
      "************************\n",
      "************************\n",
      "************************\n",
      "************************\n",
      "************************\n",
      "************************\n",
      "************************\n",
      "************************\n",
      "************************\n",
      "************************\n",
      "************************\n"
     ]
    }
   ],
   "source": [
    "char = \"*\"\n",
    "\n",
    "for i in range(12):\n",
    "    saida = \"\"\n",
    "    for j in range(12):\n",
    "        saida += char * 2\n",
    "       \n",
    "    print(saida)"
   ]
  },
  {
   "cell_type": "code",
   "execution_count": null,
   "id": "8e0d9389",
   "metadata": {},
   "outputs": [
    {
     "name": "stdout",
     "output_type": "stream",
     "text": [
      "**                      \n",
      "  **                    \n",
      "    **                  \n",
      "      **                \n",
      "        **              \n",
      "          **            \n",
      "            **          \n",
      "              **        \n",
      "                **      \n",
      "                  **    \n",
      "                    **  \n",
      "                      **\n"
     ]
    }
   ],
   "source": [
    "for i in range(12):\n",
    "    saida = \"\"\n",
    "    for j in range(12):\n",
    "        if i == j:\n",
    "            saida += \"**\"\n",
    "        else:\n",
    "            saida += \"  \"\n",
    "    print(saida)"
   ]
  },
  {
   "cell_type": "code",
   "execution_count": null,
   "id": "d2b58f52",
   "metadata": {},
   "outputs": [
    {
     "name": "stdout",
     "output_type": "stream",
     "text": [
      "**                    **\n",
      "  **                **  \n",
      "    **            **    \n",
      "      **        **      \n",
      "        **    **        \n",
      "          ****          \n",
      "          ****          \n",
      "        **    **        \n",
      "      **        **      \n",
      "    **            **    \n",
      "  **                **  \n",
      "**                    **\n"
     ]
    }
   ],
   "source": [
    "for i in range(12):\n",
    "    saida = \"\"\n",
    "    for j in range(12):\n",
    "        if i == j:\n",
    "            saida += \"**\"\n",
    "        elif i + j == 12 - 1:\n",
    "            saida += \"**\"\n",
    "        else:\n",
    "            saida += \"  \"\n",
    "    print(saida)"
   ]
  },
  {
   "cell_type": "code",
   "execution_count": 28,
   "id": "288717bd",
   "metadata": {},
   "outputs": [
    {
     "name": "stdout",
     "output_type": "stream",
     "text": [
      "*\n",
      "**\n",
      "***\n"
     ]
    }
   ],
   "source": [
    "tamanho = 3\n",
    "\n",
    "for i in range(tamanho):\n",
    "    print(\"*\" + \"*\" * i)"
   ]
  }
 ],
 "metadata": {
  "kernelspec": {
   "display_name": "Python 3",
   "language": "python",
   "name": "python3"
  },
  "language_info": {
   "codemirror_mode": {
    "name": "ipython",
    "version": 3
   },
   "file_extension": ".py",
   "mimetype": "text/x-python",
   "name": "python",
   "nbconvert_exporter": "python",
   "pygments_lexer": "ipython3",
   "version": "3.12.3"
  }
 },
 "nbformat": 4,
 "nbformat_minor": 5
}
